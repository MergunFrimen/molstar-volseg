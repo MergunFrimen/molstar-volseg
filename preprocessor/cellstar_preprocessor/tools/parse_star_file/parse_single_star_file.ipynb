{
 "cells": [
  {
   "cell_type": "code",
   "execution_count": null,
   "metadata": {},
   "outputs": [],
   "source": [
    "# Import required packages\n",
    "\n",
    "import json\n",
    "from pathlib import Path\n",
    "\n",
    "import starfile\n",
    "from cellstar_db.models import (\n",
    "    GeometricSegmentationInputData,\n",
    "    ShapePrimitiveInputData,\n",
    "    ShapePrimitiveKind,\n",
    "    SphereInputParams,\n",
    ")\n",
    "from cellstar_preprocessor.flows.common import hex_to_rgba_normalized"
   ]
  },
  {
   "cell_type": "code",
   "execution_count": null,
   "metadata": {},
   "outputs": [],
   "source": [
    "# Define a function for parsing .star file content into geometric segmentation\n",
    "# in format supported by Preprocessor (.json file conforming to specific data model)\n",
    "\n",
    "def parse_single_star_file(\n",
    "    path: Path,\n",
    "    sphere_radius: float,\n",
    "    sphere_color: list[float],\n",
    "    pixel_size: float,\n",
    "    star_file_coordinate_divisor: int,\n",
    "    segmentation_id: str,\n",
    "):\n",
    "    lst: list[ShapePrimitiveInputData] = []\n",
    "    df = starfile.read(str(path.resolve()))\n",
    "    for index, row in df.iterrows():\n",
    "        row[\"rlnTomoName\"]\n",
    "        radius = sphere_radius\n",
    "        color = sphere_color\n",
    "\n",
    "        sp_input_data = ShapePrimitiveInputData(\n",
    "            kind=ShapePrimitiveKind.sphere,\n",
    "            parameters=SphereInputParams(\n",
    "                id=index,\n",
    "                center=(\n",
    "                    row[\"rlnCoordinateX\"] / star_file_coordinate_divisor * pixel_size,\n",
    "                    row[\"rlnCoordinateY\"] / star_file_coordinate_divisor * pixel_size,\n",
    "                    row[\"rlnCoordinateZ\"] / star_file_coordinate_divisor * pixel_size,\n",
    "                ),\n",
    "                color=color,\n",
    "                radius=radius,\n",
    "            ),\n",
    "        )\n",
    "\n",
    "        lst.append(sp_input_data)\n",
    "    d = {0: lst}\n",
    "    geometric_segmentation_input = GeometricSegmentationInputData(\n",
    "        segmentation_id=segmentation_id, shape_primitives_input=d\n",
    "    )\n",
    "\n",
    "    return geometric_segmentation_input"
   ]
  },
  {
   "cell_type": "code",
   "execution_count": null,
   "metadata": {},
   "outputs": [],
   "source": [
    "# Initialize variables to run the function on the 1st .star file:\n",
    "\n",
    "star_file_path = Path(\n",
    "    'test-data/preprocessor/sample_segmentations/empiar/empiar-11756/rln_ribosome_bin1_tomo_649.star'\n",
    ")\n",
    "sphere_radius = 100.0\n",
    "sphere_color_hex: str = 'FFFF00'\n",
    "pixel_size = '7.84'\n",
    "star_file_coordinate_divisor = 4\n",
    "geometric_segmentation_input_file_path = Path(\n",
    "    'test-data/preprocessor/sample_segmentations/empiar/empiar-11756/geometric_segmentation_input_1.json'\n",
    ")\n",
    "\n",
    "# convert sphere color in hex to normalized rgba\n",
    "sphere_color = hex_to_rgba_normalized(sphere_color_hex)\n",
    "segmentation_id = 'ribosomes'"
   ]
  },
  {
   "cell_type": "code",
   "execution_count": null,
   "metadata": {},
   "outputs": [],
   "source": [
    "# Parse rln_ribosome_bin1_tomo_649.star file\n",
    "\n",
    "converted = parse_single_star_file(\n",
    "    path=star_file_path,\n",
    "    sphere_radius=sphere_radius,\n",
    "    sphere_color=sphere_color,\n",
    "    pixel_size=pixel_size,\n",
    "    star_file_coordinate_divisor=star_file_coordinate_divisor,\n",
    "    segmentation_id=segmentation_id,\n",
    ")\n",
    "\n",
    "print(converted)"
   ]
  },
  {
   "cell_type": "code",
   "execution_count": null,
   "metadata": {},
   "outputs": [],
   "source": [
    "# Write the data for the 1st geometric segmentation into JSON file\n",
    "\n",
    "with (geometric_segmentation_input_file_path).open(\"w\") as fp:\n",
    "    json.dump(converted.dict(), fp, indent=4)"
   ]
  },
  {
   "cell_type": "code",
   "execution_count": null,
   "metadata": {},
   "outputs": [],
   "source": [
    "# Change variables values to run the function on the rln_nucleosome_bin1_tomo_649.star file\n",
    "\n",
    "star_file_path = Path(\n",
    "    'test-data/preprocessor/sample_segmentations/empiar/empiar-11756/rln_nucleosome_bin1_tomo_649.star'\n",
    ")\n",
    "sphere_color_hex: str = 'FF0000'\n",
    "geometric_segmentation_input_file_path = Path(\n",
    "    'test-data/preprocessor/sample_segmentations/empiar/empiar-11756/geometric_segmentation_input_2.json'\n",
    ")\n",
    "\n",
    "# convert sphere color in hex to normalized rgba\n",
    "\n",
    "sphere_color = hex_to_rgba_normalized(sphere_color_hex)\n",
    "segmentation_id = 'nucleosomes'"
   ]
  },
  {
   "cell_type": "code",
   "execution_count": null,
   "metadata": {},
   "outputs": [],
   "source": [
    "# Parse rln_nucleosome_bin1_tomo_649.star file\n",
    "\n",
    "converted = parse_single_star_file(\n",
    "    path=star_file_path,\n",
    "    sphere_radius=sphere_radius,\n",
    "    sphere_color=sphere_color,\n",
    "    pixel_size=pixel_size,\n",
    "    star_file_coordinate_divisor=star_file_coordinate_divisor,\n",
    "    segmentation_id=segmentation_id,\n",
    ")\n",
    "\n",
    "print(converted)\n"
   ]
  },
  {
   "cell_type": "code",
   "execution_count": null,
   "metadata": {},
   "outputs": [],
   "source": [
    "# Write the data for the 2nd geometric segmentation into JSON file\n",
    "\n",
    "with (geometric_segmentation_input_file_path).open(\"w\") as fp:\n",
    "    json.dump(converted.dict(), fp, indent=4)"
   ]
  }
 ],
 "metadata": {
  "kernelspec": {
   "display_name": "cellstar-volume-server",
   "language": "python",
   "name": "python3"
  },
  "language_info": {
   "name": "python",
   "version": "3.10.0"
  }
 },
 "nbformat": 4,
 "nbformat_minor": 2
}
